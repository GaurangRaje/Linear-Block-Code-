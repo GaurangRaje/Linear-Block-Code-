{
  "nbformat": 4,
  "nbformat_minor": 0,
  "metadata": {
    "colab": {
      "name": "DComLab1r.ipynb",
      "provenance": []
    },
    "kernelspec": {
      "name": "python3",
      "display_name": "Python 3"
    }
  },
  "cells": [
    {
      "cell_type": "markdown",
      "metadata": {
        "id": "G6B-gIoenPl1",
        "colab_type": "text"
      },
      "source": [
        "# Importing the libraries"
      ]
    },
    {
      "cell_type": "code",
      "metadata": {
        "id": "h8sXVH6Yikrn",
        "colab_type": "code",
        "colab": {}
      },
      "source": [
        "import numpy as np"
      ],
      "execution_count": null,
      "outputs": []
    },
    {
      "cell_type": "markdown",
      "metadata": {
        "id": "QU9hOFOeqUW7",
        "colab_type": "text"
      },
      "source": [
        "# Generating code vector from given message bits"
      ]
    },
    {
      "cell_type": "markdown",
      "metadata": {
        "id": "gfFz7yD5qZFO",
        "colab_type": "text"
      },
      "source": [
        "## Creating identity matrix of size kxk \n",
        "##       where k is length of message bits"
      ]
    },
    {
      "cell_type": "code",
      "metadata": {
        "id": "3WsjUp-civJ4",
        "colab_type": "code",
        "colab": {
          "base_uri": "https://localhost:8080/",
          "height": 68
        },
        "outputId": "57c46fe6-3662-459e-9edc-e479a0f2fa97"
      },
      "source": [
        "iden = np.identity(3)\n",
        "print(iden)"
      ],
      "execution_count": null,
      "outputs": [
        {
          "output_type": "stream",
          "text": [
            "[[1. 0. 0.]\n",
            " [0. 1. 0.]\n",
            " [0. 0. 1.]]\n"
          ],
          "name": "stdout"
        }
      ]
    },
    {
      "cell_type": "markdown",
      "metadata": {
        "id": "90rITsDmqvm_",
        "colab_type": "text"
      },
      "source": [
        "## Creating parity matrix using user input parity bits"
      ]
    },
    {
      "cell_type": "code",
      "metadata": {
        "id": "5nhyb5O5jWvm",
        "colab_type": "code",
        "colab": {
          "base_uri": "https://localhost:8080/",
          "height": 85
        },
        "outputId": "65f6752d-5e1d-4bfc-c407-2f2fb3cf13e1"
      },
      "source": [
        "r, c = map(int, input().split()) # taking number of rows and column\n",
        "p = np.array([input().strip().split() for _ in range(r)], int)"
      ],
      "execution_count": null,
      "outputs": [
        {
          "output_type": "stream",
          "text": [
            "3 3\n",
            "1 1 1\n",
            "1 1 0\n",
            "1 0 1\n"
          ],
          "name": "stdout"
        }
      ]
    },
    {
      "cell_type": "code",
      "metadata": {
        "id": "b8FiITECkRRO",
        "colab_type": "code",
        "colab": {
          "base_uri": "https://localhost:8080/",
          "height": 68
        },
        "outputId": "4ae4b665-8f5a-45cd-af96-babefa90bbb0"
      },
      "source": [
        "print(p)"
      ],
      "execution_count": null,
      "outputs": [
        {
          "output_type": "stream",
          "text": [
            "[[1 1 1]\n",
            " [1 1 0]\n",
            " [1 0 1]]\n"
          ],
          "name": "stdout"
        }
      ]
    },
    {
      "cell_type": "markdown",
      "metadata": {
        "id": "ISUzHaQ8q6_R",
        "colab_type": "text"
      },
      "source": [
        "## Creating generator matrix \n",
        "## [G] = [I:P]"
      ]
    },
    {
      "cell_type": "code",
      "metadata": {
        "id": "KnXRj2pSk9Bd",
        "colab_type": "code",
        "colab": {
          "base_uri": "https://localhost:8080/",
          "height": 68
        },
        "outputId": "50aa451a-daf0-443a-90e0-85d7e03dc047"
      },
      "source": [
        "g = np.concatenate((iden, p), axis = 1)\n",
        "print(g)"
      ],
      "execution_count": null,
      "outputs": [
        {
          "output_type": "stream",
          "text": [
            "[[1. 0. 0. 1. 1. 1.]\n",
            " [0. 1. 0. 1. 1. 0.]\n",
            " [0. 0. 1. 1. 0. 1.]]\n"
          ],
          "name": "stdout"
        }
      ]
    },
    {
      "cell_type": "markdown",
      "metadata": {
        "id": "Xa7KZG-xreUB",
        "colab_type": "text"
      },
      "source": [
        "## Getting message vector from user"
      ]
    },
    {
      "cell_type": "code",
      "metadata": {
        "id": "KyCgu_H4lRHp",
        "colab_type": "code",
        "colab": {
          "base_uri": "https://localhost:8080/",
          "height": 34
        },
        "outputId": "85645c0a-c6bf-4407-c986-248d5f1fac3a"
      },
      "source": [
        "m = list(map(int,input().split())) # Input as list"
      ],
      "execution_count": null,
      "outputs": [
        {
          "output_type": "stream",
          "text": [
            "1 0 1\n"
          ],
          "name": "stdout"
        }
      ]
    },
    {
      "cell_type": "code",
      "metadata": {
        "id": "TDG-5fI_mbQ-",
        "colab_type": "code",
        "colab": {
          "base_uri": "https://localhost:8080/",
          "height": 34
        },
        "outputId": "2277b681-b3df-4d63-89ec-e7bd639caa51"
      },
      "source": [
        "m = np.asarray(m) # Converting list to numpy array\n",
        "print(m)"
      ],
      "execution_count": null,
      "outputs": [
        {
          "output_type": "stream",
          "text": [
            "[1 0 1]\n"
          ],
          "name": "stdout"
        }
      ]
    },
    {
      "cell_type": "markdown",
      "metadata": {
        "id": "SbjBxNGGryYr",
        "colab_type": "text"
      },
      "source": [
        "## Generating code vector\n",
        "## [C] = [M] . [G]"
      ]
    },
    {
      "cell_type": "code",
      "metadata": {
        "id": "ItIN7Wcymhtz",
        "colab_type": "code",
        "colab": {}
      },
      "source": [
        "c = m.dot(g) % 2 # Mod 2 to preserve binary nature of code"
      ],
      "execution_count": null,
      "outputs": []
    },
    {
      "cell_type": "code",
      "metadata": {
        "id": "QEjvgpmZm8Ar",
        "colab_type": "code",
        "colab": {
          "base_uri": "https://localhost:8080/",
          "height": 34
        },
        "outputId": "3c5918eb-e430-464b-f922-4523a62f86ac"
      },
      "source": [
        "print(c)"
      ],
      "execution_count": null,
      "outputs": [
        {
          "output_type": "stream",
          "text": [
            "[1. 0. 1. 0. 1. 0.]\n"
          ],
          "name": "stdout"
        }
      ]
    },
    {
      "cell_type": "markdown",
      "metadata": {
        "id": "beaFys9Ur_so",
        "colab_type": "text"
      },
      "source": [
        "# Error detection for received code vector\n"
      ]
    },
    {
      "cell_type": "markdown",
      "metadata": {
        "id": "1fCNigMcsIP8",
        "colab_type": "text"
      },
      "source": [
        "## Getting received code vector from user"
      ]
    },
    {
      "cell_type": "code",
      "metadata": {
        "id": "wqU3_yBZm9Pk",
        "colab_type": "code",
        "colab": {
          "base_uri": "https://localhost:8080/",
          "height": 51
        },
        "outputId": "4dacd665-a3f7-4a2e-93ff-592311b1cb81"
      },
      "source": [
        "print(\"Enter received code vector\")\n",
        "r = list(map(int,input().split())) # Input as list"
      ],
      "execution_count": null,
      "outputs": [
        {
          "output_type": "stream",
          "text": [
            "Enter received code vector\n",
            "1 1 1 0 1 0\n"
          ],
          "name": "stdout"
        }
      ]
    },
    {
      "cell_type": "code",
      "metadata": {
        "id": "-mJA4nFdnH6M",
        "colab_type": "code",
        "colab": {
          "base_uri": "https://localhost:8080/",
          "height": 34
        },
        "outputId": "a5dfcb3e-9511-4450-b7ce-fcb29b7fcb9b"
      },
      "source": [
        "r = np.asarray(r) # Converitng to numpy array\n",
        "print(r)"
      ],
      "execution_count": null,
      "outputs": [
        {
          "output_type": "stream",
          "text": [
            "[1 1 1 0 1 0]\n"
          ],
          "name": "stdout"
        }
      ]
    },
    {
      "cell_type": "markdown",
      "metadata": {
        "id": "LA5e3VAGsXO-",
        "colab_type": "text"
      },
      "source": [
        "## Creating Parity matric [H]\n",
        "## [H] = [Ptranspose:I]\n"
      ]
    },
    {
      "cell_type": "code",
      "metadata": {
        "id": "T0DHf1SToajk",
        "colab_type": "code",
        "colab": {}
      },
      "source": [
        "h = np.concatenate((np.transpose(p), iden), axis = 1)"
      ],
      "execution_count": null,
      "outputs": []
    },
    {
      "cell_type": "markdown",
      "metadata": {
        "id": "R0-7aXyNtnz3",
        "colab_type": "text"
      },
      "source": [
        "## Obtaining syndrome matrix as Htranspose"
      ]
    },
    {
      "cell_type": "code",
      "metadata": {
        "id": "HTJdulYwo0nS",
        "colab_type": "code",
        "colab": {
          "base_uri": "https://localhost:8080/",
          "height": 119
        },
        "outputId": "25ca8ea3-d502-431b-c0e4-a2128ca95c2a"
      },
      "source": [
        "syndrome = np.transpose(h)\n",
        "print(syndrome)"
      ],
      "execution_count": null,
      "outputs": [
        {
          "output_type": "stream",
          "text": [
            "[[1. 1. 1.]\n",
            " [1. 1. 0.]\n",
            " [1. 0. 1.]\n",
            " [1. 0. 0.]\n",
            " [0. 1. 0.]\n",
            " [0. 0. 1.]]\n"
          ],
          "name": "stdout"
        }
      ]
    },
    {
      "cell_type": "markdown",
      "metadata": {
        "id": "3mUVG2Iot_Pv",
        "colab_type": "text"
      },
      "source": [
        "## Obtaining received code vector from received code\n",
        "## [R_code] = [R] . [Htranspose]"
      ]
    },
    {
      "cell_type": "code",
      "metadata": {
        "id": "ox3WXu98o-jY",
        "colab_type": "code",
        "colab": {}
      },
      "source": [
        "r_code = r.dot(syndrome) % 2 # Mod 2 to preserve binary nature"
      ],
      "execution_count": null,
      "outputs": []
    },
    {
      "cell_type": "code",
      "metadata": {
        "id": "GsfTE5eapFsr",
        "colab_type": "code",
        "colab": {
          "base_uri": "https://localhost:8080/",
          "height": 34
        },
        "outputId": "511a2696-f6e6-48fb-d9ab-aa9a3b3687e7"
      },
      "source": [
        "print(r_code) # Printing syndrome"
      ],
      "execution_count": null,
      "outputs": [
        {
          "output_type": "stream",
          "text": [
            "[1. 1. 0.]\n"
          ],
          "name": "stdout"
        }
      ]
    },
    {
      "cell_type": "markdown",
      "metadata": {
        "id": "hBTQGBhnuUg7",
        "colab_type": "text"
      },
      "source": [
        "## Error checking: is syndrome = 0?\n"
      ]
    },
    {
      "cell_type": "code",
      "metadata": {
        "id": "l3V8HWS9uo3K",
        "colab_type": "code",
        "colab": {}
      },
      "source": [
        "is_all_zero = np.all((r_code == 0))"
      ],
      "execution_count": null,
      "outputs": []
    },
    {
      "cell_type": "code",
      "metadata": {
        "id": "AmUxC2SNpIZ1",
        "colab_type": "code",
        "colab": {
          "base_uri": "https://localhost:8080/",
          "height": 34
        },
        "outputId": "c263eeda-d464-42f6-e36f-d580b8672ee7"
      },
      "source": [
        "if is_all_zero :\n",
        "  print(\"No error\")\n",
        "else:\n",
        "  print(\"Error is present\")"
      ],
      "execution_count": null,
      "outputs": [
        {
          "output_type": "stream",
          "text": [
            "Error is present\n"
          ],
          "name": "stdout"
        }
      ]
    }
  ]
}